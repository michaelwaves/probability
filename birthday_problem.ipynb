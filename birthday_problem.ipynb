{
 "cells": [
  {
   "cell_type": "code",
   "execution_count": 1,
   "metadata": {},
   "outputs": [],
   "source": [
    "import numpy as np"
   ]
  },
  {
   "cell_type": "code",
   "execution_count": 7,
   "metadata": {},
   "outputs": [],
   "source": [
    "def birthday_probability(k:int):\n",
    "    \"\"\"Calculate the probability of at least two people having the same birthday\n",
    "    in a group of k people.\n",
    "    \n",
    "    Args:\n",
    "        k: The number of people in the group.\n",
    "        \n",
    "    Returns:\n",
    "        The probability of at least two people having the same birthday.\n",
    "    \"\"\"\n",
    "    return 1 - np.prod(np.arange(365-k+1, 365+1)/365)\n",
    "\n",
    "def birthday_probability_2(k:int):\n",
    "    prob_not_same = np.math.factorial(365)/np.math.factorial(365-k)/365**k\n",
    "    return 1 - prob_not_same\n",
    "\n",
    "def no_same_choice(choices:int, buckets:int):\n",
    "    return np.prod(np.arange(buckets-choices+1, buckets+1)/buckets)\n"
   ]
  },
  {
   "cell_type": "code",
   "execution_count": 8,
   "metadata": {},
   "outputs": [
    {
     "data": {
      "text/plain": [
       "0.5072972343239854"
      ]
     },
     "execution_count": 8,
     "metadata": {},
     "output_type": "execute_result"
    }
   ],
   "source": [
    "birthday_probability_2(23)"
   ]
  }
 ],
 "metadata": {
  "kernelspec": {
   "display_name": "pytorch",
   "language": "python",
   "name": "python3"
  },
  "language_info": {
   "codemirror_mode": {
    "name": "ipython",
    "version": 3
   },
   "file_extension": ".py",
   "mimetype": "text/x-python",
   "name": "python",
   "nbconvert_exporter": "python",
   "pygments_lexer": "ipython3",
   "version": "3.10.11"
  }
 },
 "nbformat": 4,
 "nbformat_minor": 2
}
